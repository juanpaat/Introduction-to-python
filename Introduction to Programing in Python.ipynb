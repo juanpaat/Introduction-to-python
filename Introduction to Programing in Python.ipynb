{
 "cells": [
  {
   "cell_type": "markdown",
   "metadata": {},
   "source": [
    "# Introduction to Programing in Python"
   ]
  },
  {
   "cell_type": "markdown",
   "metadata": {},
   "source": [
    "## Quices"
   ]
  },
  {
   "cell_type": "markdown",
   "metadata": {},
   "source": [
    "### Lab 1"
   ]
  },
  {
   "cell_type": "markdown",
   "metadata": {},
   "source": [
    "### Lab 2"
   ]
  },
  {
   "cell_type": "markdown",
   "metadata": {},
   "source": [
    "#### Question 1  \n",
    "\n",
    "In mathematics, the Fibonacci numbers, commonly denoted Fn , form a sequence, known as the Fibonacci sequence, in which each number is the sum of the two preceding ones. The sequence commonly starts from 0 and 1. That is, starting from 0 and 1, the first few values in the sequence are:\n",
    "\n",
    "0, 1, 1, 2, 3, 5, 8, 13, 21, 34, 55, 89, 144, ...\n",
    "\n",
    "Complement the function Fibonacci_numbers(n), where n is the n-th term of the Fibonacci sequence, i.e., n = 1, 2, 3, 4,.... Do so, such that:\n",
    "1) If n is not a positive integer, it should print 'Wrong input'\n",
    "2) Otherwise, it should return the n-th term of the Fibonacci sequence. "
   ]
  },
  {
   "cell_type": "code",
   "execution_count": null,
   "metadata": {},
   "outputs": [],
   "source": []
  },
  {
   "cell_type": "code",
   "execution_count": 1,
   "metadata": {},
   "outputs": [
    {
     "name": "stdout",
     "output_type": "stream",
     "text": [
      "1\n"
     ]
    }
   ],
   "source": [
    "def Fibonacci_numbers(n):\n",
    "    if n<0:\n",
    "        ###You code here (one line)\n",
    "        print('Wrong input')\n",
    "        ###\n",
    "    else:\n",
    "        ###Complete the conditional below \n",
    "        # Hint: for the 3rd condition, you need to call the function itself twice with difference arguments and?\n",
    "        if n==1:\n",
    "            return(0)\n",
    "        elif n==2:\n",
    "            return(1)\n",
    "        else:\n",
    "            return(Fibonacci_numbers(n-1)+Fibonacci_numbers(n-2))\n",
    "        \n",
    "        \n",
    "print(Fibonacci_numbers(2))"
   ]
  },
  {
   "cell_type": "markdown",
   "metadata": {},
   "source": [
    "#### Question 2  \n",
    "\n",
    "A geometric series is the sum of an infinite number of terms that have a constant ratio between successive terms. For example, the series\n",
    "\n",
    "{\\frac {1}{2}}\\,+\\,{\\frac {1}{4}}\\,+\\,{\\frac {1}{8}}\\,+\\,{\\frac {1}{16}}\\,+\\,\\cdots \n",
    "is geometric, because each successive term can be obtained by multiplying the previous term by1/2. In general, a geometric series is written as {\\displaystyle a+ar+ar^{2}+ar^{3}+...}, where a is the coefficient of each term and r is the common ratio between adjacent terms.\n",
    "\n",
    "In our example, we have that a=1/2 as this is the first term of the sequence, and r=1/2 given any term is equal to the previous multiplied by 1/2.\n",
    "\n",
    "Your task is to complement the function Geometric_series(a, r, n), where a is the coefficient, r is the ratio and n is the first n terms of the sequence.  This function should return the summation of the first n terms. \n",
    "\n",
    "Note than a and r could be any number, however n is a integer number. Therefore, if n less than one, you should print 'Wrong input'."
   ]
  },
  {
   "cell_type": "code",
   "execution_count": 2,
   "metadata": {},
   "outputs": [
    {
     "name": "stdout",
     "output_type": "stream",
     "text": [
      "0.75\n",
      "0.6562\n",
      "0.25\n"
     ]
    }
   ],
   "source": [
    "def Geometric_series(a, r, n):\n",
    "    ###Complete the code below such that it prints 'Wrong input' if n is less than one (2 lines)\n",
    "    if n<1:\n",
    "        print(\"Wrong\")\n",
    "    else:\n",
    "        ###Complete the code below such that it returns the summation of the first n terms (4 lines)\n",
    "        result = 0\n",
    "        for i in range(n):\n",
    "           result = result + a * (r**i)\n",
    "    return result\n",
    "\n",
    "\n",
    "\n",
    "print(Geometric_series(1/2, 1/2, 2))\n",
    "print(round(Geometric_series(1/3, 1/2, 6),4))\n",
    "print(round(Geometric_series(1/4, 1/4, 1),4))"
   ]
  },
  {
   "cell_type": "markdown",
   "metadata": {},
   "source": [
    "#### Question 3  \n",
    "Combination is a selection of items from a set that has distinct members, such that the order of selection does not matter (unlike permutations). For example, given three fruits, say an apple, an orange and a pear, there are three combinations of two that can be drawn from this set: an apple and a pear; an apple and an orange; or a pear and an orange. More formally, a k-combination of a set S is a subset of k distinct elements of S. So, two combinations are identical if and only if each combination has the same members. (The arrangement of the members in each set does not matter.) If the set has n elements, the number of k-combinations, is denoted as C_{k}^{n} and is equal to\n",
    "\n",
    "{\\displaystyle {\\binom {n}{k}}={\\frac {n(n-1)\\dotsb (n-k+1)}{k(k-1)\\dotsb 1}},}\n",
    "which can be written using factorials as \\textstyle {\\frac {n!}{k!(n-k)!}} whenever k\\leq n, and which is zero when k>n. \n",
    "\n",
    "Write a function Combination(n, k) such that given the values of n and k it returns C_{k}^{n}\n",
    "\n",
    "You have to take care of the edge case, i.e., k>n, and in that case you should return zero.\n",
    "\n",
    "Note: You can not use built-in functions of python to calculate factorial. Write your own function for that. "
   ]
  },
  {
   "cell_type": "code",
   "execution_count": 4,
   "metadata": {},
   "outputs": [
    {
     "name": "stdout",
     "output_type": "stream",
     "text": [
      "3.0\n"
     ]
    }
   ],
   "source": [
    "###First write a fuction which calculates the factorial (around 7 lines)\n",
    "def factorial(x):\n",
    "    if x == 1:\n",
    "        return 1\n",
    "    else:\n",
    "        total = 1\n",
    "        for i in range(x):\n",
    "            total = total * (i+1)\n",
    "    return total\n",
    "\n",
    "###\n",
    "\n",
    "###Complete the code below to return the combination of k from n\n",
    "def Combination(n, k):\n",
    "    \n",
    "    if k > n:\n",
    "        return 0    \n",
    "    else:\n",
    "        combination = factorial(n) / ( factorial(k)* factorial(n-k) )\n",
    "    return combination\n",
    "###\n",
    "\n",
    "print(Combination(3, 2))"
   ]
  },
  {
   "cell_type": "markdown",
   "metadata": {},
   "source": [
    "### Lab 3"
   ]
  },
  {
   "cell_type": "markdown",
   "metadata": {},
   "source": [
    "#### Question 1  \n",
    "You are given a list of numbers, and a single digit.\n",
    "\n",
    "Write a function which declares the position (index) of the digit inside that list. \n",
    "\n",
    "If that digit does not exist in the list, return [].\n",
    "\n",
    "If there are more than one occurrences of the digit, return the positions (indices) in the form of a list.\n",
    "\n",
    "You can use the list method .append(var)\n",
    "If a_list is a list, a_list.append(a_var) will add the variable a_var to the list a_list\n",
    "For instance:\n",
    "a_list=[1,2,3,4]\n",
    "a_list.append(5)\n",
    "now a_list=[1,2,3,4,5]\n",
    "You can also create a new empty list with the below:\n",
    "a_list = []\n",
    "\n",
    "Note: You should not use any other built-in function (you can only use append and what we have seen in class)."
   ]
  },
  {
   "cell_type": "code",
   "execution_count": 7,
   "metadata": {},
   "outputs": [
    {
     "name": "stdout",
     "output_type": "stream",
     "text": [
      "[]\n",
      "[1]\n",
      "[1, 3]\n",
      "[3, 7]\n",
      "[5, 8]\n",
      "[4]\n"
     ]
    }
   ],
   "source": [
    "def index_finder(arr, digit):\n",
    "    output = []\n",
    "    for i in range(len(arr)):\n",
    "        if digit == arr[i]:\n",
    "            output.append(i)\n",
    "    return output\n",
    "\n",
    "\n",
    "print(index_finder([1,3,4],2))\n",
    "print(index_finder([1,2,3,4],2))\n",
    "print(index_finder([1,2,3,2,4],2))\n",
    "print(index_finder([1,2,3,4,3,5,3,4],4))\n",
    "print(index_finder([1,2.3,3,4,3,5.1,3,4, 5.1],5.1))\n",
    "print(index_finder([1,2.3,3,4,300,5.1,3,4, 5.1],300))"
   ]
  },
  {
   "cell_type": "markdown",
   "metadata": {},
   "source": [
    "#### Question 2\n",
    "Given a list of zeros and ones (we call this a binary array), return the maximum number of consecutive 1's in the array.\n",
    "\n",
    "Hint:\n",
    "1) Define a counter variable, let us call it counter. Initialise it with zero\n",
    "2) Define another variable which is going to be returned by your code. Call it out, and initialise it with zero too.\n",
    "3) Write for loop and count the ones (each time you have to add one to counter)\n",
    "4) Every time you update the counter, update out in the following way: out =  max(out, counter)\n",
    "5) You should reset the counter to zero as soon as you observe a zero along your list (or array)"
   ]
  },
  {
   "cell_type": "code",
   "execution_count": 8,
   "metadata": {},
   "outputs": [
    {
     "name": "stdout",
     "output_type": "stream",
     "text": [
      "3\n",
      "2\n"
     ]
    }
   ],
   "source": [
    "def findMaxConsecutiveOnes(nums):\n",
    "    counter = 0\n",
    "    out = 0\n",
    "    for numero in nums:\n",
    "        if numero == 1:\n",
    "            counter += 1\n",
    "        else:\n",
    "            out = max(out,counter)\n",
    "            counter = 0\n",
    "    out = max(out,counter)\n",
    "    return out\n",
    "            \n",
    "\n",
    "print(findMaxConsecutiveOnes([1,1,0,1,1,1]))\n",
    "print(findMaxConsecutiveOnes([1,0,1,1,0,1]))"
   ]
  },
  {
   "cell_type": "markdown",
   "metadata": {},
   "source": [
    "#### Question 3  \n",
    "Given a fixed-length integer array, you should duplicate each occurrence of zero, and shift the remaining elements to the right.\n",
    "\n",
    "Hint: Create a new empty list (you can do so by new_list = []), and add numbers to it using the method append(), e.g., new_list.append(2)"
   ]
  },
  {
   "cell_type": "code",
   "execution_count": 9,
   "metadata": {},
   "outputs": [
    {
     "name": "stdout",
     "output_type": "stream",
     "text": [
      "[1, 0, 0, 2, 3, 0, 0, 4, 5, 0, 0]\n",
      "[1, 2, 3]\n"
     ]
    }
   ],
   "source": [
    "def duplicateZeros(arr):\n",
    "    lista = []\n",
    "    for integer in arr:\n",
    "        if integer == 0:\n",
    "            lista.append(integer)\n",
    "            lista.append(integer)\n",
    "        else:\n",
    "            lista.append(integer)\n",
    "    return lista\n",
    "\n",
    "print(duplicateZeros([1,0,2,3,0,4,5,0]))\n",
    "print(duplicateZeros([1,2,3]))"
   ]
  },
  {
   "cell_type": "markdown",
   "metadata": {},
   "source": [
    "#### Question 4  \n",
    "Write a function which gets numbers from the user (use this command to get the digits from the user: input('Enter the digit\\n'). Note that \\n is used to go to the next line), and stores them in a list, and ultimately returns it. \n",
    "\n",
    "If the user enters a non-digit character, ignore it, unless they write 'Stop' in which case you should terminate the function and return the outcome in the form of a list.\n",
    "\n",
    "You can use the method var.isdigit() to check if the variable var is a digit or not."
   ]
  },
  {
   "cell_type": "code",
   "execution_count": null,
   "metadata": {},
   "outputs": [],
   "source": [
    "def num_print():\n",
    "    li = []\n",
    "    while True:\n",
    "        value = input('Enter the digit\\n')\n",
    "        if value.isdigit():\n",
    "            li.append(float(value))\n",
    "        elif value == 'Stop':\n",
    "            return li\n",
    "        else:\n",
    "            li = li\n",
    "            \n",
    "    \n",
    "num_print()\n",
    "1\n",
    "3\n",
    "2\n",
    "h\n",
    "5\n",
    "Stop"
   ]
  },
  {
   "cell_type": "markdown",
   "metadata": {},
   "source": [
    "#### Question 5  \n",
    "Pascal's triangle is a triangular array of some numbers that have important applications in many scientific areas. The rows of Pascal's triangle are conventionally enumerated starting with row n=0 at the top (the 0th row). The entries in each row are numbered from the left beginning with k=0 and are usually staggered relative to the numbers in the adjacent rows. The triangle may be constructed in the following manner: \n",
    "\n",
    "In row 0 (the topmost row), there is a unique nonzero entry 1. Each entry of each subsequent row is constructed by adding the number above and to the left with the number above and to the right, treating blank entries as 0. For example, the initial number in the first (or any other) row is 1 (the sum of 0 and 1), whereas the numbers 1 and 3 in the third row are added to produce the number 4 in the fourth row.\n",
    "\n",
    "1  \n",
    "1   1  \n",
    "1   2   1  \n",
    "1   3   3   1  \n",
    "1   4   6   4   1  \n",
    "1   5   10   10   5   1  \n",
    "...  \n",
    "\n",
    "Write a function pascal(n) which returns the elements of the n-th row (note that n starts from zero) in the form of a list.\n",
    "\n",
    "For example, pascal(4) must return [1, 4, 6, 4, 1] \n",
    "\n",
    "\n",
    "\n",
    "Hint: \n",
    "\n",
    "1) Define the base cases for n=0 and n=1\n",
    "\n",
    "2) Define a new list list1=[1]\n",
    "\n",
    "3) Use recursion to obtain the list of number in pascal(n-1). Call it list2\n",
    "\n",
    "4) Use for loop to add the elements of the list2 according to rule above, and use list1.append() to append the numbers one by one to the end of list1\n",
    "\n",
    "5) Ultimately append another 1 to list1 and return it."
   ]
  },
  {
   "cell_type": "code",
   "execution_count": 14,
   "metadata": {},
   "outputs": [
    {
     "name": "stdout",
     "output_type": "stream",
     "text": [
      "[1]\n",
      "[1, 1]\n",
      "[1, 4, 6, 4, 1]\n"
     ]
    }
   ],
   "source": [
    "def Paskal(n):\n",
    "    # Base cases\n",
    "    if n == 0:\n",
    "        return [1]\n",
    "    elif n == 1:\n",
    "        return [1, 1]\n",
    "\n",
    "    # Recursive step to get the (n-1)th row\n",
    "    list2 = Paskal(n - 1)\n",
    "\n",
    "    # Initialize the new row with the first element\n",
    "    list1 = [1]\n",
    "\n",
    "    # Calculate the new row elements by adding adjacent elements in the previous row\n",
    "    for i in range(len(list2) - 1):\n",
    "        list1.append(list2[i] + list2[i + 1])\n",
    "\n",
    "    # Append the last element\n",
    "    list1.append(1)\n",
    "\n",
    "    return list1\n",
    "\n",
    "\n",
    "print(Paskal(0))\n",
    "print(Paskal(1))\n",
    "print(Paskal(4))"
   ]
  },
  {
   "cell_type": "markdown",
   "metadata": {},
   "source": [
    "### Lab 4"
   ]
  },
  {
   "cell_type": "markdown",
   "metadata": {},
   "source": [
    "#### Question 1   \n",
    "Take two lists nums1 and nums2, containing integers as your function's input. Both of them are sorted in non-decreasing order.  \n",
    "Merge nums1 and nums2 into a single list sorted in non-decreasing order.   \n",
    "Note: You can use the built function sort() in your programming. Can you do this without sort()?! try at home.  "
   ]
  },
  {
   "cell_type": "code",
   "execution_count": 1,
   "metadata": {},
   "outputs": [
    {
     "name": "stdout",
     "output_type": "stream",
     "text": [
      "[1, 2, 2, 3, 5, 6]\n",
      "[1]\n",
      "[]\n"
     ]
    }
   ],
   "source": [
    "def merge(nums1, nums2):\n",
    "    output = nums1 + nums2\n",
    "    output.sort()\n",
    "    return output\n",
    "\n",
    "print(merge([1,2,3],[2,5,6]))\n",
    "print(merge([1],[]))\n",
    "print(merge([],[]))"
   ]
  },
  {
   "cell_type": "markdown",
   "metadata": {},
   "source": [
    "#### Question 2  \n",
    "Given an array arr, replace every element in that array with the greatest element among the elements to its right, and replace the last element with -1.\n",
    "\n",
    "After doing so, return the array.\n",
    "\n",
    "Hint: you can use the built-in function max() to find the maximum item in a list or in a sliced list."
   ]
  },
  {
   "cell_type": "code",
   "execution_count": 2,
   "metadata": {},
   "outputs": [
    {
     "name": "stdout",
     "output_type": "stream",
     "text": [
      "[18, 6, 6, 6, 1, -1]\n",
      "[12, 12, 12, 12, 12, 12, 12, 12, 12, -1]\n",
      "[7, 7, 7, 7, 4, 4, 4, 4, -12, -1]\n"
     ]
    }
   ],
   "source": [
    "def replaceElements(arr):\n",
    "    le = len(arr)\n",
    "    output = []\n",
    "    for i in range(le):\n",
    "        if i < (le-1):\n",
    "            maximo = max(arr[i+1:])\n",
    "            output.append(maximo)\n",
    "        else:\n",
    "            output.append(-1)\n",
    "    return output\n",
    "\n",
    "\n",
    "\n",
    "print(replaceElements([17,18,5,4,6,1]))\n",
    "print(replaceElements([4,3,6,5,7,1,2,0,4,12]))\n",
    "print(replaceElements([-4,3,6,5,7,-1,2,0,4,-12]))"
   ]
  },
  {
   "cell_type": "markdown",
   "metadata": {},
   "source": [
    "#### Question 3  \n",
    "\n",
    "Given a list nums of integers, return how many of them contain an even number of digits.\n",
    "\n",
    "Hint: var1 % 2 returns the remainder of the division of var1 by 2"
   ]
  },
  {
   "cell_type": "code",
   "execution_count": 3,
   "metadata": {},
   "outputs": [
    {
     "name": "stdout",
     "output_type": "stream",
     "text": [
      "2\n",
      "1\n"
     ]
    }
   ],
   "source": [
    "def findNumbers(nums):\n",
    "    lista = []\n",
    "    for i in nums:\n",
    "        lista.append(abs(i))\n",
    "    count = 0\n",
    "    for i in lista:\n",
    "        if len(str(i))%2 == 0:\n",
    "            count = count + 1\n",
    "        else:\n",
    "            count = count\n",
    "    return count\n",
    "\n",
    "\n",
    "print(findNumbers([12,345,2,6,7896]))\n",
    "print(findNumbers([555,901,482,-1771]))"
   ]
  },
  {
   "cell_type": "markdown",
   "metadata": {},
   "source": [
    "#### Question 4  \n",
    "\n",
    "Given a list of integers nums and an integer target, return a list containing the indices of the two numbers such that they add up to target.\n",
    "\n",
    "You may assume that each input would have exactly one solution, and you may not use the same element twice (i.e. the two elements in the list to be returned must be different).\n",
    "\n",
    "You can return the answer in any order (i.e. the order of the elements in the list to be returned does not matter).\n",
    "\n",
    "Approach: One-pass Dictionary or Hash table\n",
    "\n",
    "While we are iterating and inserting elements into the hash table (i.e. a dictionary), we also look back to check if current element's complement (i.e. target minus the element) already exists in the hash table. If it exists, we have found a solution and return the indices immediately.\n",
    "\n",
    "In other words, create a dictionary where the key is target-nums[i] and its value is nums[i]. As you move across nums, check if you have nums[i] among the keys of your dictionary. This is not the only solution. You can think of other ways as well (using a dictionary)\n",
    "\n",
    "You should use dictionary data-structure to answer this question."
   ]
  },
  {
   "cell_type": "code",
   "execution_count": 4,
   "metadata": {},
   "outputs": [
    {
     "name": "stdout",
     "output_type": "stream",
     "text": [
      "[0, 1]\n",
      "[1, 2]\n",
      "[0, 1]\n"
     ]
    }
   ],
   "source": [
    "def twoSum(nums, target):\n",
    "    dc = {}\n",
    "    for i in range(len(nums)):\n",
    "        for j in range(i+1, len(nums)):\n",
    "            dc[nums[i]+nums[j]] = [i,j]\n",
    "    return dc[target]\n",
    "\n",
    "a = twoSum([2,7,11,15], 9)\n",
    "a.sort()\n",
    "print(a)\n",
    "print(sorted(twoSum([3,2,4], 6)))\n",
    "print(sorted(twoSum([3,3], 6)))"
   ]
  },
  {
   "cell_type": "markdown",
   "metadata": {},
   "source": [
    "#### Question 5  \n",
    "You are given a list of integer numbers nums which has been sorted in a non-decreasing order. \n",
    "\n",
    "Return an array of the squares of each number sorted in non-decreasing order. \n",
    "\n",
    "Note: You should not use any built-in sorting function or method.\n",
    "\n",
    "\n",
    "\n",
    "\n",
    "Hint: \n",
    "Intuition: Let us call the list A. Since the list A is sorted, loosely speaking it has some negative elements with squares in decreasing order, then some non-negative elements with squares in increasing order.\n",
    "\n",
    "For example, with [-3, -2, -1, 4, 5, 6], we have the negative part [-3, -2, -1] with squares [9, 4, 1], and the positive part [4, 5, 6] with squares [16, 25, 36]. Our strategy is to iterate over the negative part in reverse, and the positive part in the forward direction.\n",
    "\n",
    "How to do that:\n",
    "\n",
    "You may find it useful to know that\n",
    "for i in range(5, 1, -1):\n",
    "     print(i)\n",
    "\n",
    "Prints the values 5, 4, 3, 2."
   ]
  },
  {
   "cell_type": "code",
   "execution_count": 5,
   "metadata": {},
   "outputs": [
    {
     "name": "stdout",
     "output_type": "stream",
     "text": [
      "[0, 1, 9, 16, 100]\n",
      "[4, 9, 9, 49, 121]\n",
      "[4, 9, 9, 9, 25, 121]\n"
     ]
    }
   ],
   "source": [
    "def sortedSquares(nums):\n",
    "    output = []\n",
    "    for i in range(len(nums)):\n",
    "            output.append(nums[i]**2)\n",
    "    output.sort()\n",
    "    return output\n",
    "\n",
    "\n",
    "print(sortedSquares([-4,-1,0,3,10]))\n",
    "print(sortedSquares([-7,-3,2,3,11]))\n",
    "print(sortedSquares([-5,-3,-3,2,3,11]))"
   ]
  },
  {
   "cell_type": "markdown",
   "metadata": {},
   "source": [
    "## Class Excersices"
   ]
  },
  {
   "cell_type": "markdown",
   "metadata": {},
   "source": [
    "### Class 1"
   ]
  },
  {
   "cell_type": "markdown",
   "metadata": {},
   "source": [
    "### Class 2"
   ]
  }
 ],
 "metadata": {
  "kernelspec": {
   "display_name": "Python 3",
   "language": "python",
   "name": "python3"
  },
  "language_info": {
   "codemirror_mode": {
    "name": "ipython",
    "version": 3
   },
   "file_extension": ".py",
   "mimetype": "text/x-python",
   "name": "python",
   "nbconvert_exporter": "python",
   "pygments_lexer": "ipython3",
   "version": "3.9.4"
  }
 },
 "nbformat": 4,
 "nbformat_minor": 2
}
